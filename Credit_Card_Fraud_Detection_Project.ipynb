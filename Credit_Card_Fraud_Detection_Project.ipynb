{
 "cells": [
  {
   "cell_type": "markdown",
   "id": "ef3923c8",
   "metadata": {},
   "source": [
    "### Loading The Required Libraries"
   ]
  },
  {
   "cell_type": "code",
   "execution_count": 2,
   "id": "90530095",
   "metadata": {},
   "outputs": [
    {
     "name": "stdout",
     "output_type": "stream",
     "text": [
      "Collecting xgboost\n",
      "  Downloading xgboost-1.7.6-py3-none-win_amd64.whl (70.9 MB)\n",
      "     --------------------------------------- 70.9/70.9 MB 22.6 MB/s eta 0:00:00\n",
      "Requirement already satisfied: scipy in c:\\users\\asus\\anaconda3\\lib\\site-packages (from xgboost) (1.7.1)\n",
      "Requirement already satisfied: numpy in c:\\users\\asus\\anaconda3\\lib\\site-packages (from xgboost) (1.22.4)\n",
      "Installing collected packages: xgboost\n",
      "Successfully installed xgboost-1.7.6\n"
     ]
    },
    {
     "name": "stderr",
     "output_type": "stream",
     "text": [
      "\n",
      "[notice] A new release of pip available: 22.3.1 -> 23.1.2\n",
      "[notice] To update, run: python.exe -m pip install --upgrade pip\n"
     ]
    }
   ],
   "source": [
    "!pip install xgboost"
   ]
  },
  {
   "cell_type": "code",
   "execution_count": 3,
   "id": "4e4108b6",
   "metadata": {},
   "outputs": [],
   "source": [
    "import pandas as pd\n",
    "import numpy as np\n",
    "import xgboost as xgb\n",
    "import matplotlib.pyplot as plt"
   ]
  },
  {
   "cell_type": "code",
   "execution_count": 4,
   "id": "37b9d685",
   "metadata": {},
   "outputs": [],
   "source": [
    "from sklearn.model_selection import train_test_split\n",
    "from sklearn.preprocessing import StandardScaler\n",
    "from sklearn.linear_model import LogisticRegression\n",
    "from sklearn.ensemble import RandomForestClassifier\n",
    "from sklearn.ensemble import GradientBoostingClassifier\n",
    "from sklearn.neural_network import MLPClassifier\n",
    "from sklearn.svm import SVC\n",
    "from sklearn.metrics import precision_recall_curve, auc, confusion_matrix\n",
    "from sklearn.metrics import roc_auc_score\n",
    "from tensorflow.keras.models import Sequential\n",
    "from tensorflow.keras.layers import Dense\n",
    "from tensorflow.keras.optimizers import Adam\n",
    "from sklearn.ensemble import IsolationForest\n"
   ]
  },
  {
   "cell_type": "markdown",
   "id": "83942b16",
   "metadata": {},
   "source": [
    "### Loading The Dataset"
   ]
  },
  {
   "cell_type": "code",
   "execution_count": 5,
   "id": "8944fae8",
   "metadata": {},
   "outputs": [],
   "source": [
    "data = pd.read_csv(\"creditcard.csv\")"
   ]
  },
  {
   "cell_type": "markdown",
   "id": "f8fa272c",
   "metadata": {},
   "source": [
    "### Dataset Description"
   ]
  },
  {
   "cell_type": "code",
   "execution_count": 6,
   "id": "8dd5cec7",
   "metadata": {},
   "outputs": [
    {
     "name": "stdout",
     "output_type": "stream",
     "text": [
      "Dataset Description:\n",
      "Number of transactions: 284807\n",
      "Number of fraud transactions: 492\n",
      "Percentage of fraud transactions: 0.173%\n",
      "Class imbalance ratio: 1 to 578.88\n",
      "Features: ['Time', 'V1', 'V2', 'V3', 'V4', 'V5', 'V6', 'V7', 'V8', 'V9', 'V10', 'V11', 'V12', 'V13', 'V14', 'V15', 'V16', 'V17', 'V18', 'V19', 'V20', 'V21', 'V22', 'V23', 'V24', 'V25', 'V26', 'V27', 'V28', 'Amount']\n"
     ]
    }
   ],
   "source": [
    "print(\"Dataset Description:\")\n",
    "print(\"Number of transactions:\", len(data))\n",
    "print(\"Number of fraud transactions:\", data['Class'].sum())\n",
    "print(\"Percentage of fraud transactions: {:.3f}%\".format(data['Class'].mean() * 100))\n",
    "print(\"Class imbalance ratio: 1 to {:.2f}\".format(1 / data['Class'].mean()))\n",
    "print(\"Features:\", data.columns[:-1].tolist())\n"
   ]
  },
  {
   "cell_type": "markdown",
   "id": "b1a17ed6",
   "metadata": {},
   "source": [
    "### Splitting The Dataset"
   ]
  },
  {
   "cell_type": "code",
   "execution_count": 7,
   "id": "9fb81db1",
   "metadata": {},
   "outputs": [],
   "source": [
    "X_train, X_test, Y_train, Y_test = train_test_split(data, data[\"Class\"], test_size=0.2)"
   ]
  },
  {
   "cell_type": "markdown",
   "id": "dd93e49b",
   "metadata": {},
   "source": [
    "### Feature Scaling"
   ]
  },
  {
   "cell_type": "code",
   "execution_count": 8,
   "id": "060ffd1b",
   "metadata": {},
   "outputs": [],
   "source": [
    "scaler = StandardScaler()\n",
    "X_train = scaler.fit_transform(X_train)\n",
    "X_test = scaler.transform(X_test)"
   ]
  },
  {
   "cell_type": "markdown",
   "id": "77bb4d7d",
   "metadata": {},
   "source": [
    "### Training The Models"
   ]
  },
  {
   "cell_type": "code",
   "execution_count": 11,
   "id": "9fa8e408",
   "metadata": {},
   "outputs": [
    {
     "name": "stdout",
     "output_type": "stream",
     "text": [
      "Epoch 1/10\n",
      "7121/7121 [==============================] - 7s 911us/step - loss: 0.0014 - accuracy: 0.9999\n",
      "Epoch 2/10\n",
      "7121/7121 [==============================] - 7s 969us/step - loss: 2.4887e-08 - accuracy: 1.0000\n",
      "Epoch 3/10\n",
      "7121/7121 [==============================] - 7s 924us/step - loss: 1.1756e-09 - accuracy: 1.0000\n",
      "Epoch 4/10\n",
      "7121/7121 [==============================] - 8s 1ms/step - loss: 1.2126e-10 - accuracy: 1.0000\n",
      "Epoch 5/10\n",
      "7121/7121 [==============================] - 7s 1ms/step - loss: 4.5083e-11 - accuracy: 1.0000\n",
      "Epoch 6/10\n",
      "7121/7121 [==============================] - 7s 957us/step - loss: 2.8214e-11 - accuracy: 1.0000\n",
      "Epoch 7/10\n",
      "7121/7121 [==============================] - 7s 968us/step - loss: 2.0870e-11 - accuracy: 1.0000\n",
      "Epoch 8/10\n",
      "7121/7121 [==============================] - 7s 917us/step - loss: 1.6568e-11 - accuracy: 1.0000\n",
      "Epoch 9/10\n",
      "7121/7121 [==============================] - 7s 966us/step - loss: 1.3938e-11 - accuracy: 1.0000\n",
      "Epoch 10/10\n",
      "7121/7121 [==============================] - 7s 979us/step - loss: 1.2041e-11 - accuracy: 1.0000\n"
     ]
    },
    {
     "data": {
      "text/plain": [
       "IsolationForest()"
      ]
     },
     "execution_count": 11,
     "metadata": {},
     "output_type": "execute_result"
    }
   ],
   "source": [
    "logistic_regression = LogisticRegression()\n",
    "logistic_regression.fit(X_train, Y_train)\n",
    "\n",
    "random_forest = RandomForestClassifier()\n",
    "random_forest.fit(X_train, Y_train)\n",
    "\n",
    "gradient_boosting = GradientBoostingClassifier()\n",
    "gradient_boosting.fit(X_train, Y_train)\n",
    "\n",
    "deep_learning = Sequential()\n",
    "deep_learning.add(Dense(128, activation=\"relu\"))\n",
    "deep_learning.add(Dense(64, activation=\"relu\"))\n",
    "deep_learning.add(Dense(1, activation=\"sigmoid\"))\n",
    "deep_learning.compile(loss=\"binary_crossentropy\", optimizer=\"adam\", metrics=[\"accuracy\"])\n",
    "deep_learning.fit(X_train, Y_train, epochs=10)\n",
    "\n",
    "isolation_forest = IsolationForest()\n",
    "isolation_forest.fit(X_train)"
   ]
  },
  {
   "cell_type": "code",
   "execution_count": 13,
   "id": "b7d4604a",
   "metadata": {},
   "outputs": [
    {
     "data": {
      "text/plain": [
       "MLPClassifier(hidden_layer_sizes=(100, 100))"
      ]
     },
     "execution_count": 13,
     "metadata": {},
     "output_type": "execute_result"
    }
   ],
   "source": [
    "mlp = MLPClassifier(hidden_layer_sizes=(100, 100), activation=\"relu\", solver=\"adam\", learning_rate=\"constant\", learning_rate_init=0.001)\n",
    "mlp.fit(X_train, Y_train)"
   ]
  },
  {
   "cell_type": "markdown",
   "id": "1eaa04d9",
   "metadata": {},
   "source": [
    "### Evaluating The Models"
   ]
  },
  {
   "cell_type": "code",
   "execution_count": 38,
   "id": "4625d2b5",
   "metadata": {},
   "outputs": [
    {
     "name": "stdout",
     "output_type": "stream",
     "text": [
      "1781/1781 [==============================] - 1s 499us/step\n"
     ]
    }
   ],
   "source": [
    "from sklearn.metrics import roc_curve, roc_auc_score, RocCurveDisplay\n",
    "\n",
    "# Calculating false positive rate and true positive rate for each model\n",
    "fpr_lr, tpr_lr, _ = roc_curve(Y_test, logistic_regression.predict_proba(X_test)[:, 1])\n",
    "fpr_rf, tpr_rf, _ = roc_curve(Y_test, random_forest.predict_proba(X_test)[:, 1])\n",
    "fpr_gb, tpr_gb, _ = roc_curve(Y_test, gradient_boosting.predict_proba(X_test)[:, 1])\n",
    "fpr_dl, tpr_dl, _ = roc_curve(Y_test, deep_learning.predict(X_test))\n",
    "fpr_mlp, tpr_mlp, _ = roc_curve(Y_test, mlp.predict_proba(X_test)[:, 1])\n",
    "fpr_if, tpr_if, _ = roc_curve(Y_test, isolation_forest.predict(X_test))"
   ]
  },
  {
   "cell_type": "code",
   "execution_count": 39,
   "id": "ccecca76",
   "metadata": {},
   "outputs": [
    {
     "name": "stdout",
     "output_type": "stream",
     "text": [
      "1781/1781 [==============================] - 1s 494us/step\n"
     ]
    }
   ],
   "source": [
    "# Calculating AUC for each model\n",
    "auc_lr = roc_auc_score(Y_test, logistic_regression.predict_proba(X_test)[:, 1])\n",
    "auc_rf = roc_auc_score(Y_test, random_forest.predict_proba(X_test)[:, 1])\n",
    "auc_gb = roc_auc_score(Y_test, gradient_boosting.predict_proba(X_test)[:, 1])\n",
    "auc_dl = roc_auc_score(Y_test, deep_learning.predict(X_test))\n",
    "auc_mlp = roc_auc_score(Y_test, mlp.predict_proba(X_test)[:, 1])\n",
    "auc_if = roc_auc_score(Y_test, isolation_forest.predict(X_test))\n"
   ]
  },
  {
   "cell_type": "markdown",
   "id": "a031eeab",
   "metadata": {},
   "source": [
    "### Plotting  The Result"
   ]
  },
  {
   "cell_type": "code",
   "execution_count": 40,
   "id": "378243dd",
   "metadata": {},
   "outputs": [
    {
     "data": {
      "image/png": "[encoded data removed]",
      "text/plain": [
       "<Figure size 432x288 with 1 Axes>"
      ]
     },
     "metadata": {
      "needs_background": "light"
     },
     "output_type": "display_data"
    }
   ],
   "source": [
    "# Plotting the ROC curves\n",
    "plt.plot(fpr_lr, tpr_lr, label='Logistic Regression (AUC = {:.2f})'.format(auc_lr))\n",
    "plt.plot(fpr_rf, tpr_rf, label='Random Forest (AUC = {:.2f})'.format(auc_rf))\n",
    "plt.plot(fpr_gb, tpr_gb, label='Gradient Boosting (AUC = {:.2f})'.format(auc_gb))\n",
    "plt.plot(fpr_dl, tpr_dl, label='Deep Learning (AUC = {:.2f})'.format(auc_dl))\n",
    "plt.plot(fpr_mlp, tpr_mlp, label='MLP (AUC = {:.2f})'.format(auc_mlp))\n",
    "plt.plot(fpr_if, tpr_if, label='Isolation Forest (AUC = {:.2f})'.format(auc_if))\n",
    "\n",
    "# Add labels and legend\n",
    "plt.xlabel('False Positive Rate')\n",
    "plt.ylabel('True Positive Rate')\n",
    "plt.title('ROC Curves for Multiple Models')\n",
    "plt.legend(loc='lower right')\n",
    "\n",
    "# Show the plot\n",
    "plt.show()"
   ]
  },
  {
   "cell_type": "code",
   "execution_count": null,
   "id": "c95f5fd0",
   "metadata": {},
   "outputs": [],
   "source": [
    "\n"
   ]
  },
  {
   "cell_type": "code",
   "execution_count": null,
   "id": "3623045e",
   "metadata": {},
   "outputs": [],
   "source": []
  }
 ],
 "metadata": {
  "kernelspec": {
   "display_name": "Python 3 (ipykernel)",
   "language": "python",
   "name": "python3"
  },
  "language_info": {
   "codemirror_mode": {
    "name": "ipython",
    "version": 3
   },
   "file_extension": ".py",
   "mimetype": "text/x-python",
   "name": "python",
   "nbconvert_exporter": "python",
   "pygments_lexer": "ipython3",
   "version": "3.9.7"
  }
 },
 "nbformat": 4,
 "nbformat_minor": 5
}
